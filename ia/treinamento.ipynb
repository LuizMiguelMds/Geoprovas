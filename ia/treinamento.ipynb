{
 "cells": [
  {
   "cell_type": "markdown",
   "id": "5fd9fd95-89b5-4000-bc8c-70932975a280",
   "metadata": {},
   "source": [
    "## Treinamento Inicial ##"
   ]
  },
  {
   "cell_type": "code",
   "execution_count": 3,
   "id": "c8e4d3fa-0008-4b45-b7af-c34fc6ac2e25",
   "metadata": {},
   "outputs": [],
   "source": [
    "# instalação das libs\n",
    "!pip install transformers pandas scikit-learn --quiet"
   ]
  },
  {
   "cell_type": "code",
   "execution_count": 5,
   "id": "789a0108-e711-49e0-9900-e10e3039b626",
   "metadata": {
    "scrolled": true
   },
   "outputs": [
    {
     "name": "stdout",
     "output_type": "stream",
     "text": [
      "Collecting torch\n",
      "  Downloading torch-2.6.0-cp313-cp313-win_amd64.whl.metadata (28 kB)\n",
      "Collecting torchvision\n",
      "  Downloading torchvision-0.21.0-cp313-cp313-win_amd64.whl.metadata (6.3 kB)\n",
      "Collecting torchaudio\n",
      "  Downloading torchaudio-2.6.0-cp313-cp313-win_amd64.whl.metadata (6.7 kB)\n",
      "Requirement already satisfied: filelock in c:\\users\\luiz.marques\\appdata\\local\\programs\\python\\python313\\lib\\site-packages (from torch) (3.18.0)\n",
      "Requirement already satisfied: typing-extensions>=4.10.0 in c:\\users\\luiz.marques\\appdata\\local\\programs\\python\\python313\\lib\\site-packages (from torch) (4.13.0)\n",
      "Collecting networkx (from torch)\n",
      "  Downloading networkx-3.4.2-py3-none-any.whl.metadata (6.3 kB)\n",
      "Requirement already satisfied: jinja2 in c:\\users\\luiz.marques\\appdata\\local\\programs\\python\\python313\\lib\\site-packages (from torch) (3.1.6)\n",
      "Requirement already satisfied: fsspec in c:\\users\\luiz.marques\\appdata\\local\\programs\\python\\python313\\lib\\site-packages (from torch) (2025.3.2)\n",
      "Requirement already satisfied: setuptools in c:\\users\\luiz.marques\\appdata\\local\\programs\\python\\python313\\lib\\site-packages (from torch) (78.1.0)\n",
      "Collecting sympy==1.13.1 (from torch)\n",
      "  Downloading sympy-1.13.1-py3-none-any.whl.metadata (12 kB)\n",
      "Collecting mpmath<1.4,>=1.1.0 (from sympy==1.13.1->torch)\n",
      "  Downloading mpmath-1.3.0-py3-none-any.whl.metadata (8.6 kB)\n",
      "Requirement already satisfied: numpy in c:\\users\\luiz.marques\\appdata\\local\\programs\\python\\python313\\lib\\site-packages (from torchvision) (2.2.4)\n",
      "Collecting pillow!=8.3.*,>=5.3.0 (from torchvision)\n",
      "  Downloading pillow-11.1.0-cp313-cp313-win_amd64.whl.metadata (9.3 kB)\n",
      "Requirement already satisfied: MarkupSafe>=2.0 in c:\\users\\luiz.marques\\appdata\\local\\programs\\python\\python313\\lib\\site-packages (from jinja2->torch) (3.0.2)\n",
      "Downloading torch-2.6.0-cp313-cp313-win_amd64.whl (204.1 MB)\n",
      "   ---------------------------------------- 0.0/204.1 MB ? eta -:--:--\n",
      "   ---------------------------------------- 1.8/204.1 MB 9.3 MB/s eta 0:00:22\n",
      "    --------------------------------------- 3.7/204.1 MB 9.5 MB/s eta 0:00:22\n",
      "   - -------------------------------------- 5.8/204.1 MB 9.5 MB/s eta 0:00:21\n",
      "   - -------------------------------------- 7.9/204.1 MB 9.6 MB/s eta 0:00:21\n",
      "   - -------------------------------------- 10.0/204.1 MB 9.6 MB/s eta 0:00:21\n",
      "   -- ------------------------------------- 12.1/204.1 MB 9.6 MB/s eta 0:00:20\n",
      "   -- ------------------------------------- 14.2/204.1 MB 9.6 MB/s eta 0:00:20\n",
      "   --- ------------------------------------ 16.3/204.1 MB 9.6 MB/s eta 0:00:20\n",
      "   --- ------------------------------------ 18.4/204.1 MB 9.6 MB/s eta 0:00:20\n",
      "   --- ------------------------------------ 20.2/204.1 MB 9.6 MB/s eta 0:00:20\n",
      "   ---- ----------------------------------- 22.3/204.1 MB 9.7 MB/s eta 0:00:19\n",
      "   ---- ----------------------------------- 24.4/204.1 MB 9.7 MB/s eta 0:00:19\n",
      "   ----- ---------------------------------- 26.5/204.1 MB 9.7 MB/s eta 0:00:19\n",
      "   ----- ---------------------------------- 28.3/204.1 MB 9.7 MB/s eta 0:00:19\n",
      "   ----- ---------------------------------- 30.4/204.1 MB 9.7 MB/s eta 0:00:18\n",
      "   ------ --------------------------------- 32.5/204.1 MB 9.7 MB/s eta 0:00:18\n",
      "   ------ --------------------------------- 34.6/204.1 MB 9.7 MB/s eta 0:00:18\n",
      "   ------- -------------------------------- 36.7/204.1 MB 9.7 MB/s eta 0:00:18\n",
      "   ------- -------------------------------- 38.8/204.1 MB 9.7 MB/s eta 0:00:18\n",
      "   -------- ------------------------------- 40.9/204.1 MB 9.7 MB/s eta 0:00:17\n",
      "   -------- ------------------------------- 43.0/204.1 MB 9.7 MB/s eta 0:00:17\n",
      "   -------- ------------------------------- 45.1/204.1 MB 9.7 MB/s eta 0:00:17\n",
      "   --------- ------------------------------ 47.2/204.1 MB 9.7 MB/s eta 0:00:17\n",
      "   --------- ------------------------------ 49.3/204.1 MB 9.7 MB/s eta 0:00:17\n",
      "   ---------- ----------------------------- 51.1/204.1 MB 9.7 MB/s eta 0:00:16\n",
      "   ---------- ----------------------------- 53.2/204.1 MB 9.7 MB/s eta 0:00:16\n",
      "   ---------- ----------------------------- 55.3/204.1 MB 9.7 MB/s eta 0:00:16\n",
      "   ----------- ---------------------------- 57.4/204.1 MB 9.7 MB/s eta 0:00:16\n",
      "   ----------- ---------------------------- 59.5/204.1 MB 9.7 MB/s eta 0:00:15\n",
      "   ------------ --------------------------- 61.6/204.1 MB 9.7 MB/s eta 0:00:15\n",
      "   ------------ --------------------------- 63.7/204.1 MB 9.7 MB/s eta 0:00:15\n",
      "   ------------ --------------------------- 65.5/204.1 MB 9.7 MB/s eta 0:00:15\n",
      "   ------------- -------------------------- 67.9/204.1 MB 9.7 MB/s eta 0:00:15\n",
      "   ------------- -------------------------- 69.7/204.1 MB 9.7 MB/s eta 0:00:14\n",
      "   -------------- ------------------------- 71.8/204.1 MB 9.7 MB/s eta 0:00:14\n",
      "   -------------- ------------------------- 73.9/204.1 MB 9.7 MB/s eta 0:00:14\n",
      "   -------------- ------------------------- 76.0/204.1 MB 9.7 MB/s eta 0:00:14\n",
      "   --------------- ------------------------ 77.9/204.1 MB 9.7 MB/s eta 0:00:14\n",
      "   --------------- ------------------------ 80.0/204.1 MB 9.7 MB/s eta 0:00:13\n",
      "   ---------------- ----------------------- 82.3/204.1 MB 9.7 MB/s eta 0:00:13\n",
      "   ---------------- ----------------------- 84.1/204.1 MB 9.7 MB/s eta 0:00:13\n",
      "   ---------------- ----------------------- 86.2/204.1 MB 9.7 MB/s eta 0:00:13\n",
      "   ----------------- ---------------------- 88.3/204.1 MB 9.7 MB/s eta 0:00:12\n",
      "   ----------------- ---------------------- 90.4/204.1 MB 9.7 MB/s eta 0:00:12\n",
      "   ------------------ --------------------- 92.5/204.1 MB 9.7 MB/s eta 0:00:12\n",
      "   ------------------ --------------------- 94.4/204.1 MB 9.7 MB/s eta 0:00:12\n",
      "   ------------------ --------------------- 96.5/204.1 MB 9.7 MB/s eta 0:00:12\n",
      "   ------------------- -------------------- 98.6/204.1 MB 9.7 MB/s eta 0:00:11\n",
      "   ------------------- -------------------- 100.4/204.1 MB 9.7 MB/s eta 0:00:11\n",
      "   -------------------- ------------------- 102.5/204.1 MB 9.7 MB/s eta 0:00:11\n",
      "   -------------------- ------------------- 104.6/204.1 MB 9.7 MB/s eta 0:00:11\n",
      "   -------------------- ------------------- 106.7/204.1 MB 9.7 MB/s eta 0:00:11\n",
      "   --------------------- ------------------ 108.5/204.1 MB 9.7 MB/s eta 0:00:10\n",
      "   --------------------- ------------------ 110.6/204.1 MB 9.7 MB/s eta 0:00:10\n",
      "   ---------------------- ----------------- 112.5/204.1 MB 9.7 MB/s eta 0:00:10\n",
      "   ---------------------- ----------------- 114.6/204.1 MB 9.7 MB/s eta 0:00:10\n",
      "   ---------------------- ----------------- 116.7/204.1 MB 9.7 MB/s eta 0:00:10\n",
      "   ----------------------- ---------------- 118.8/204.1 MB 9.7 MB/s eta 0:00:09\n",
      "   ----------------------- ---------------- 120.8/204.1 MB 9.7 MB/s eta 0:00:09\n",
      "   ------------------------ --------------- 122.9/204.1 MB 9.7 MB/s eta 0:00:09\n",
      "   ------------------------ --------------- 124.8/204.1 MB 9.7 MB/s eta 0:00:09\n",
      "   ------------------------ --------------- 126.9/204.1 MB 9.7 MB/s eta 0:00:08\n",
      "   ------------------------- -------------- 129.0/204.1 MB 9.7 MB/s eta 0:00:08\n",
      "   ------------------------- -------------- 131.1/204.1 MB 9.7 MB/s eta 0:00:08\n",
      "   -------------------------- ------------- 133.2/204.1 MB 9.7 MB/s eta 0:00:08\n",
      "   -------------------------- ------------- 134.7/204.1 MB 9.6 MB/s eta 0:00:08\n",
      "   -------------------------- ------------- 136.3/204.1 MB 9.6 MB/s eta 0:00:08\n",
      "   --------------------------- ------------ 137.9/204.1 MB 9.6 MB/s eta 0:00:07\n",
      "   --------------------------- ------------ 140.0/204.1 MB 9.6 MB/s eta 0:00:07\n",
      "   --------------------------- ------------ 142.1/204.1 MB 9.6 MB/s eta 0:00:07\n",
      "   ---------------------------- ----------- 144.2/204.1 MB 9.6 MB/s eta 0:00:07\n",
      "   ---------------------------- ----------- 146.3/204.1 MB 9.6 MB/s eta 0:00:07\n",
      "   ----------------------------- ---------- 148.4/204.1 MB 9.6 MB/s eta 0:00:06\n",
      "   ----------------------------- ---------- 150.2/204.1 MB 9.6 MB/s eta 0:00:06\n",
      "   ----------------------------- ---------- 152.3/204.1 MB 9.6 MB/s eta 0:00:06\n",
      "   ------------------------------ --------- 154.1/204.1 MB 9.6 MB/s eta 0:00:06\n",
      "   ------------------------------ --------- 156.2/204.1 MB 9.6 MB/s eta 0:00:05\n",
      "   ------------------------------- -------- 158.3/204.1 MB 9.6 MB/s eta 0:00:05\n",
      "   ------------------------------- -------- 160.4/204.1 MB 9.6 MB/s eta 0:00:05\n",
      "   ------------------------------- -------- 162.5/204.1 MB 9.6 MB/s eta 0:00:05\n",
      "   -------------------------------- ------- 164.6/204.1 MB 9.6 MB/s eta 0:00:05\n",
      "   -------------------------------- ------- 166.7/204.1 MB 9.6 MB/s eta 0:00:04\n",
      "   --------------------------------- ------ 168.8/204.1 MB 9.6 MB/s eta 0:00:04\n",
      "   --------------------------------- ------ 170.7/204.1 MB 9.6 MB/s eta 0:00:04\n",
      "   --------------------------------- ------ 172.8/204.1 MB 9.6 MB/s eta 0:00:04\n",
      "   ---------------------------------- ----- 174.9/204.1 MB 9.6 MB/s eta 0:00:04\n",
      "   ---------------------------------- ----- 176.7/204.1 MB 9.6 MB/s eta 0:00:03\n",
      "   ----------------------------------- ---- 178.8/204.1 MB 9.6 MB/s eta 0:00:03\n",
      "   ----------------------------------- ---- 181.1/204.1 MB 9.6 MB/s eta 0:00:03\n",
      "   ----------------------------------- ---- 183.0/204.1 MB 9.6 MB/s eta 0:00:03\n",
      "   ------------------------------------ --- 185.1/204.1 MB 9.6 MB/s eta 0:00:02\n",
      "   ------------------------------------ --- 187.2/204.1 MB 9.6 MB/s eta 0:00:02\n",
      "   ------------------------------------- -- 189.0/204.1 MB 9.6 MB/s eta 0:00:02\n",
      "   ------------------------------------- -- 191.1/204.1 MB 9.6 MB/s eta 0:00:02\n",
      "   ------------------------------------- -- 193.2/204.1 MB 9.6 MB/s eta 0:00:02\n",
      "   -------------------------------------- - 195.0/204.1 MB 9.6 MB/s eta 0:00:01\n",
      "   -------------------------------------- - 197.1/204.1 MB 9.6 MB/s eta 0:00:01\n",
      "   ---------------------------------------  199.2/204.1 MB 9.6 MB/s eta 0:00:01\n",
      "   ---------------------------------------  201.3/204.1 MB 9.6 MB/s eta 0:00:01\n",
      "   ---------------------------------------  203.2/204.1 MB 9.6 MB/s eta 0:00:01\n",
      "   ---------------------------------------  203.9/204.1 MB 9.6 MB/s eta 0:00:01\n",
      "   ---------------------------------------- 204.1/204.1 MB 9.5 MB/s eta 0:00:00\n",
      "Downloading sympy-1.13.1-py3-none-any.whl (6.2 MB)\n",
      "   ---------------------------------------- 0.0/6.2 MB ? eta -:--:--\n",
      "   ----------- ---------------------------- 1.8/6.2 MB 9.7 MB/s eta 0:00:01\n",
      "   ------------------------- -------------- 3.9/6.2 MB 9.7 MB/s eta 0:00:01\n",
      "   ------------------------------------- -- 5.8/6.2 MB 9.7 MB/s eta 0:00:01\n",
      "   ---------------------------------------- 6.2/6.2 MB 9.3 MB/s eta 0:00:00\n",
      "Downloading torchvision-0.21.0-cp313-cp313-win_amd64.whl (1.6 MB)\n",
      "   ---------------------------------------- 0.0/1.6 MB ? eta -:--:--\n",
      "   --------------------------------- ------ 1.3/1.6 MB 7.1 MB/s eta 0:00:01\n",
      "   ---------------------------------------- 1.6/1.6 MB 6.5 MB/s eta 0:00:00\n",
      "Downloading torchaudio-2.6.0-cp313-cp313-win_amd64.whl (2.4 MB)\n",
      "   ---------------------------------------- 0.0/2.4 MB ? eta -:--:--\n",
      "   ----------------------------- ---------- 1.8/2.4 MB 9.7 MB/s eta 0:00:01\n",
      "   ---------------------------------------- 2.4/2.4 MB 9.2 MB/s eta 0:00:00\n",
      "Downloading pillow-11.1.0-cp313-cp313-win_amd64.whl (2.6 MB)\n",
      "   ---------------------------------------- 0.0/2.6 MB ? eta -:--:--\n",
      "   --------------------------- ------------ 1.8/2.6 MB 9.7 MB/s eta 0:00:01\n",
      "   ---------------------------------------- 2.6/2.6 MB 9.4 MB/s eta 0:00:00\n",
      "Downloading networkx-3.4.2-py3-none-any.whl (1.7 MB)\n",
      "   ---------------------------------------- 0.0/1.7 MB ? eta -:--:--\n",
      "   ---------------------------------------- 1.7/1.7 MB 8.7 MB/s eta 0:00:00\n",
      "Downloading mpmath-1.3.0-py3-none-any.whl (536 kB)\n",
      "   ---------------------------------------- 0.0/536.2 kB ? eta -:--:--\n",
      "   ---------------------------------------- 536.2/536.2 kB 6.4 MB/s eta 0:00:00\n",
      "Installing collected packages: mpmath, sympy, pillow, networkx, torch, torchvision, torchaudio\n",
      "Successfully installed mpmath-1.3.0 networkx-3.4.2 pillow-11.1.0 sympy-1.13.1 torch-2.6.0 torchaudio-2.6.0 torchvision-0.21.0\n"
     ]
    }
   ],
   "source": [
    "!pip install torch torchvision torchaudio"
   ]
  },
  {
   "cell_type": "code",
   "execution_count": 1,
   "id": "c8217f06-f79d-4340-8f4f-fe42e67f8e99",
   "metadata": {
    "scrolled": true
   },
   "outputs": [
    {
     "data": {
      "application/vnd.jupyter.widget-view+json": {
       "model_id": "e8a51c966d784ce794c2b8d1324c84e4",
       "version_major": 2,
       "version_minor": 0
      },
      "text/plain": [
       "pytorch_model.bin:   0%|          | 0.00/438M [00:00<?, ?B/s]"
      ]
     },
     "metadata": {},
     "output_type": "display_data"
    },
    {
     "name": "stderr",
     "output_type": "stream",
     "text": [
      "C:\\Users\\luiz.marques\\AppData\\Local\\Programs\\Python\\Python313\\Lib\\site-packages\\huggingface_hub\\file_download.py:144: UserWarning: `huggingface_hub` cache-system uses symlinks by default to efficiently store duplicated files but your machine does not support them in C:\\Users\\luiz.marques\\.cache\\huggingface\\hub\\models--neuralmind--bert-base-portuguese-cased. Caching files will still work but in a degraded version that might require more space on your disk. This warning can be disabled by setting the `HF_HUB_DISABLE_SYMLINKS_WARNING` environment variable. For more details, see https://huggingface.co/docs/huggingface_hub/how-to-cache#limitations.\n",
      "To support symlinks on Windows, you either need to activate Developer Mode or to run Python as an administrator. In order to activate developer mode, see this article: https://docs.microsoft.com/en-us/windows/apps/get-started/enable-your-device-for-development\n",
      "  warnings.warn(message)\n",
      "Some weights of BertForSequenceClassification were not initialized from the model checkpoint at neuralmind/bert-base-portuguese-cased and are newly initialized: ['classifier.bias', 'classifier.weight']\n",
      "You should probably TRAIN this model on a down-stream task to be able to use it for predictions and inference.\n"
     ]
    },
    {
     "data": {
      "application/vnd.jupyter.widget-view+json": {
       "model_id": "d5504911f55f420180b2ed7f2baf6e87",
       "version_major": 2,
       "version_minor": 0
      },
      "text/plain": [
       "tokenizer_config.json:   0%|          | 0.00/43.0 [00:00<?, ?B/s]"
      ]
     },
     "metadata": {},
     "output_type": "display_data"
    },
    {
     "data": {
      "application/vnd.jupyter.widget-view+json": {
       "model_id": "5e7d73aa0ccd43bf93257021265c8e5e",
       "version_major": 2,
       "version_minor": 0
      },
      "text/plain": [
       "vocab.txt:   0%|          | 0.00/210k [00:00<?, ?B/s]"
      ]
     },
     "metadata": {},
     "output_type": "display_data"
    },
    {
     "data": {
      "application/vnd.jupyter.widget-view+json": {
       "model_id": "6e79ddb4a7fc4376a5d37ee99af99d5a",
       "version_major": 2,
       "version_minor": 0
      },
      "text/plain": [
       "model.safetensors:   0%|          | 0.00/438M [00:00<?, ?B/s]"
      ]
     },
     "metadata": {},
     "output_type": "display_data"
    },
    {
     "data": {
      "application/vnd.jupyter.widget-view+json": {
       "model_id": "43fef3bbdeca448b8de7ad4610b95996",
       "version_major": 2,
       "version_minor": 0
      },
      "text/plain": [
       "added_tokens.json:   0%|          | 0.00/2.00 [00:00<?, ?B/s]"
      ]
     },
     "metadata": {},
     "output_type": "display_data"
    },
    {
     "data": {
      "application/vnd.jupyter.widget-view+json": {
       "model_id": "05ab29e08d87460d9ab708288581ebd4",
       "version_major": 2,
       "version_minor": 0
      },
      "text/plain": [
       "special_tokens_map.json:   0%|          | 0.00/112 [00:00<?, ?B/s]"
      ]
     },
     "metadata": {},
     "output_type": "display_data"
    },
    {
     "name": "stderr",
     "output_type": "stream",
     "text": [
      "Device set to use cpu\n"
     ]
    },
    {
     "name": "stdout",
     "output_type": "stream",
     "text": [
      "[{'label': 'LABEL_0', 'score': 0.6295684576034546}]\n"
     ]
    }
   ],
   "source": [
    "# Carregar o modelo BERTimbau para classificar texto\n",
    "from transformers import pipeline\n",
    "\n",
    "# iniciação do classificador\n",
    "classifier = pipeline(\"text-classification\", model=\"neuralmind/bert-base-portuguese-cased\")\n",
    "\n",
    "# classificção de frase exemplo\n",
    "frase = \"Geografia Urbana é difícil para alunos do ensino médio?\"\n",
    "resultado = classifier(frase)\n",
    "\n",
    "print(resultado)"
   ]
  }
 ],
 "metadata": {
  "kernelspec": {
   "display_name": "Python 3 (ipykernel)",
   "language": "python",
   "name": "python3"
  },
  "language_info": {
   "codemirror_mode": {
    "name": "ipython",
    "version": 3
   },
   "file_extension": ".py",
   "mimetype": "text/x-python",
   "name": "python",
   "nbconvert_exporter": "python",
   "pygments_lexer": "ipython3",
   "version": "3.13.2"
  }
 },
 "nbformat": 4,
 "nbformat_minor": 5
}
